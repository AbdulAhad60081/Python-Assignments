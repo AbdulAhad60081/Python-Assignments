{
 "cells": [
  {
   "cell_type": "markdown",
   "metadata": {},
   "source": [
    "# Abdul Ahad bin Kaukab\n",
    "# 60081\n",
    "# Assignment String Functions"
   ]
  },
  {
   "cell_type": "code",
   "execution_count": null,
   "metadata": {},
   "outputs": [],
   "source": [
    "#Kindly Run this Block to make sure all the string variables are initialized\n",
    "a=\"intelligence\"\n",
    "b=\"ARTIFICIAL\"\n",
    "c=\"P\\tI\\tA\\tI\\tC\\t\"\n",
    "d=\"My Registration Number is {reg:}\"\n",
    "e=\"  \"\n",
    "f=\"Batman\"\n",
    "str1=\"Surfur\"\n",
    "list=[\"Ahad\",\"Waqas\",\"Saqib\",\"Qasim\",\"Lala\"]\n",
    "x=\"******Superman*****\"\n",
    "y=\"Abdul\\nAhad\\nbin\\nKaukab\""
   ]
  },
  {
   "cell_type": "code",
   "execution_count": 2,
   "metadata": {},
   "outputs": [
    {
     "name": "stdout",
     "output_type": "stream",
     "text": [
      "Intelligence\n"
     ]
    }
   ],
   "source": [
    "#Capitalize function will Capitalize first alphabet in string \n",
    "\n",
    "print(a.capitalize()) #inline\n",
    "\n"
   ]
  },
  {
   "cell_type": "code",
   "execution_count": 3,
   "metadata": {},
   "outputs": [
    {
     "name": "stdout",
     "output_type": "stream",
     "text": [
      "artificial\n"
     ]
    }
   ],
   "source": [
    "#Casefold function will return lower case of the passes string.It is similar to .lower() but more powerful\n",
    "\n",
    "print(b.casefold()) #inline\n"
   ]
  },
  {
   "cell_type": "code",
   "execution_count": 20,
   "metadata": {},
   "outputs": [
    {
     "name": "stdout",
     "output_type": "stream",
     "text": [
      "*******************intelligence*******************\n"
     ]
    }
   ],
   "source": [
    "#Center function return centered in a string of length width.Padding is done using the specified fillchar\n",
    "print(a.center(50,\"*\" ))#inline\n",
    "\n"
   ]
  },
  {
   "cell_type": "code",
   "execution_count": 22,
   "metadata": {},
   "outputs": [
    {
     "name": "stdout",
     "output_type": "stream",
     "text": [
      "2\n"
     ]
    }
   ],
   "source": [
    "# Count function will return number of occurences of the specified character\n",
    "print(a.count(\"l\")) #inline"
   ]
  },
  {
   "cell_type": "code",
   "execution_count": 30,
   "metadata": {},
   "outputs": [
    {
     "name": "stdout",
     "output_type": "stream",
     "text": [
      "b'ARTIFICIAL'\n"
     ]
    }
   ],
   "source": [
    "# Encode function return encoded version of the string as a bytes object\n",
    "print(b.encode(\"utf-8\")) #inline"
   ]
  },
  {
   "cell_type": "code",
   "execution_count": 32,
   "metadata": {},
   "outputs": [
    {
     "name": "stdout",
     "output_type": "stream",
     "text": [
      "False\n",
      "True\n"
     ]
    }
   ],
   "source": [
    "#Endswith function will return True if the string ends with the specified suffix\n",
    "print(a.endswith(\"l\"))\n",
    "print(a.endswith(\"e\"))# inline"
   ]
  },
  {
   "cell_type": "code",
   "execution_count": 74,
   "metadata": {},
   "outputs": [
    {
     "name": "stdout",
     "output_type": "stream",
     "text": [
      "P\tI\tA\tI\tC\t\n",
      "P I A I C \n"
     ]
    }
   ],
   "source": [
    "#expandtab function will return a copy of the string where all tab characters are replaced by one or more spaces\n",
    "\n",
    "print(c)\n",
    "print(c.expandtabs(2))# inline"
   ]
  },
  {
   "cell_type": "code",
   "execution_count": 38,
   "metadata": {},
   "outputs": [
    {
     "name": "stdout",
     "output_type": "stream",
     "text": [
      "3\n"
     ]
    }
   ],
   "source": [
    "#find function will searches the string for a specified value/character and returns the lowest position of where it was found\n",
    "print(b.find(\"I\"))#inline"
   ]
  },
  {
   "cell_type": "code",
   "execution_count": 113,
   "metadata": {},
   "outputs": [
    {
     "name": "stdout",
     "output_type": "stream",
     "text": [
      "My Registration Number is 60081\n"
     ]
    }
   ],
   "source": [
    "#Perform a string formatting operation. The string on which this method is called can contain literal text or replacement fields delimited by braces {}.\n",
    "print(d.format(reg=60081))# inline\n"
   ]
  },
  {
   "cell_type": "code",
   "execution_count": 63,
   "metadata": {},
   "outputs": [
    {
     "name": "stdout",
     "output_type": "stream",
     "text": [
      "4\n"
     ]
    }
   ],
   "source": [
    "#index function searches the string for a specified value and returns the position of where it was found\n",
    "print(a.index(\"l\"))"
   ]
  },
  {
   "cell_type": "code",
   "execution_count": 65,
   "metadata": {},
   "outputs": [
    {
     "name": "stdout",
     "output_type": "stream",
     "text": [
      "True\n"
     ]
    }
   ],
   "source": [
    "#isalnum function will return True if all characters in the string are alphanumeric\n",
    "print(a.isalnum())#inline"
   ]
  },
  {
   "cell_type": "code",
   "execution_count": 66,
   "metadata": {},
   "outputs": [
    {
     "name": "stdout",
     "output_type": "stream",
     "text": [
      "True\n"
     ]
    }
   ],
   "source": [
    "#isalpha function will return True if all characters in the string are alphabets\n",
    "print(b.isalpha())#inline"
   ]
  },
  {
   "cell_type": "code",
   "execution_count": 67,
   "metadata": {},
   "outputs": [
    {
     "name": "stdout",
     "output_type": "stream",
     "text": [
      "True\n"
     ]
    }
   ],
   "source": [
    "#isascii function will return True if the string is empty or all characters in the string are ASCII\n",
    "print(c.isascii())#inline"
   ]
  },
  {
   "cell_type": "code",
   "execution_count": 68,
   "metadata": {},
   "outputs": [
    {
     "name": "stdout",
     "output_type": "stream",
     "text": [
      "False\n"
     ]
    }
   ],
   "source": [
    "#isdecimal function will return true if any or all of the characters in string are decimals\n",
    "print(a.isdecimal())"
   ]
  },
  {
   "cell_type": "code",
   "execution_count": 69,
   "metadata": {},
   "outputs": [
    {
     "name": "stdout",
     "output_type": "stream",
     "text": [
      "False\n"
     ]
    }
   ],
   "source": [
    "#isdigit function will return true if any or all of the characters in string are digits\n",
    "print(b.isdigit())"
   ]
  },
  {
   "cell_type": "code",
   "execution_count": 75,
   "metadata": {},
   "outputs": [
    {
     "name": "stdout",
     "output_type": "stream",
     "text": [
      "True\n"
     ]
    }
   ],
   "source": [
    "#isidentifier function will return True if the string is a valid identifier according to the language\n",
    "print(b.isidentifier()) #inline\n",
    "\n",
    "\n"
   ]
  },
  {
   "cell_type": "code",
   "execution_count": 76,
   "metadata": {},
   "outputs": [
    {
     "name": "stdout",
     "output_type": "stream",
     "text": [
      "False\n"
     ]
    }
   ],
   "source": [
    "#isloxer function will eeturn True if all characters in the string are lowercase and there is at least one cased character, False otherwise.\n",
    "print(c.islower())# inline"
   ]
  },
  {
   "cell_type": "code",
   "execution_count": 77,
   "metadata": {},
   "outputs": [
    {
     "name": "stdout",
     "output_type": "stream",
     "text": [
      "False\n"
     ]
    }
   ],
   "source": [
    "#isnumeric function will return True if all characters in the string are numeric characters\n",
    "print(b.isnumeric())"
   ]
  },
  {
   "cell_type": "code",
   "execution_count": 78,
   "metadata": {},
   "outputs": [
    {
     "name": "stdout",
     "output_type": "stream",
     "text": [
      "True\n"
     ]
    }
   ],
   "source": [
    "#isprintable function will return True if all characters in the string are printable or the string is empty\n",
    "print(a.isprintable())"
   ]
  },
  {
   "cell_type": "code",
   "execution_count": 114,
   "metadata": {},
   "outputs": [
    {
     "name": "stdout",
     "output_type": "stream",
     "text": [
      "False\n",
      "True\n"
     ]
    }
   ],
   "source": [
    "#isspace function will return True if there are only whitespace characters in the string and there is at least one character\n",
    "print(b.isspace())\n",
    "\n",
    "print(e.isspace())"
   ]
  },
  {
   "cell_type": "code",
   "execution_count": 18,
   "metadata": {},
   "outputs": [
    {
     "name": "stdout",
     "output_type": "stream",
     "text": [
      "False\n",
      "True\n"
     ]
    }
   ],
   "source": [
    "#istitle function will return True if the string is a titlecased string and there is at least one character\n",
    "print(a.istitle())\n",
    "print(f.istitle())"
   ]
  },
  {
   "cell_type": "code",
   "execution_count": 85,
   "metadata": {},
   "outputs": [
    {
     "name": "stdout",
     "output_type": "stream",
     "text": [
      "True\n",
      "False\n"
     ]
    }
   ],
   "source": [
    "#isupper function will return True if all cased characters in the string are uppercase\n",
    "print(c.isupper())\n",
    "print(a.isupper())"
   ]
  },
  {
   "cell_type": "code",
   "execution_count": 19,
   "metadata": {},
   "outputs": [
    {
     "name": "stdout",
     "output_type": "stream",
     "text": [
      "AhadARTIFICIALWaqasARTIFICIALSaqibARTIFICIALQasimARTIFICIALLala\n"
     ]
    }
   ],
   "source": [
    "#join function will return a string which is the concatenation of the strings in iterable like lists tuples etc\n",
    "\n",
    "print(b.join(list))"
   ]
  },
  {
   "cell_type": "code",
   "execution_count": 98,
   "metadata": {},
   "outputs": [
    {
     "name": "stdout",
     "output_type": "stream",
     "text": [
      "P\tI\tA\tI\tC\t**********\n"
     ]
    }
   ],
   "source": [
    "#Return the string left justified in a string of length width. Padding is done using the specified fillchar\n",
    "print(c.ljust(20,\"*\"))"
   ]
  },
  {
   "cell_type": "code",
   "execution_count": 4,
   "metadata": {},
   "outputs": [
    {
     "name": "stdout",
     "output_type": "stream",
     "text": [
      "intelligence\n"
     ]
    }
   ],
   "source": [
    "#Return a copy of the string with all the cased characters converted to lowercase.\n",
    "print(a.lower())#inline\n"
   ]
  },
  {
   "cell_type": "code",
   "execution_count": 12,
   "metadata": {},
   "outputs": [
    {
     "name": "stdout",
     "output_type": "stream",
     "text": [
      "ARTIFICIAL\n",
      "IFICIAL\n"
     ]
    }
   ],
   "source": [
    "#Return a copy of the string with leading characters removed. \n",
    "print(b)\n",
    "print(b.lstrip(\"ART\"))#inline"
   ]
  },
  {
   "cell_type": "code",
   "execution_count": 108,
   "metadata": {},
   "outputs": [
    {
     "name": "stdout",
     "output_type": "stream",
     "text": [
      "{83: 66, 117: 97, 114: 110, 102: 109}\n"
     ]
    }
   ],
   "source": [
    "#This static method returns a translation table usable for str.translate().\n",
    "\n",
    "t=d.maketrans(str,f)\n",
    "print(t)\n"
   ]
  },
  {
   "cell_type": "code",
   "execution_count": 26,
   "metadata": {},
   "outputs": [
    {
     "name": "stdout",
     "output_type": "stream",
     "text": [
      "('int', 'ell', 'igence')\n"
     ]
    }
   ],
   "source": [
    "#partition() func searches for the last occurrence of a string, and splits the string into a tuple containing three elements.\n",
    "print(a.partition(\"ell\"))#inline"
   ]
  },
  {
   "cell_type": "code",
   "execution_count": 29,
   "metadata": {},
   "outputs": [
    {
     "name": "stdout",
     "output_type": "stream",
     "text": [
      "TRAIFICIAL\n",
      "ARTIFICIAL\n"
     ]
    }
   ],
   "source": [
    "#Return a copy of the string with all occurrences of substring old replaced by new\n",
    "print(b.replace(\"ART\",\"TRA\"))#inline\n",
    "print(b)"
   ]
  },
  {
   "cell_type": "code",
   "execution_count": 31,
   "metadata": {},
   "outputs": [
    {
     "name": "stdout",
     "output_type": "stream",
     "text": [
      "My Registration Number is {reg:}\n",
      "23\n"
     ]
    }
   ],
   "source": [
    "#Return the highest index in the string where substring sub is found\n",
    "print(d)\n",
    "print(d.rfind(\"is\"))#inline"
   ]
  },
  {
   "cell_type": "code",
   "execution_count": 35,
   "metadata": {},
   "outputs": [
    {
     "name": "stdout",
     "output_type": "stream",
     "text": [
      "23\n"
     ]
    }
   ],
   "source": [
    "#Like rfind() but raises ValueError when the substring sub is not found.\n",
    "print(d.rindex(\"is\"))"
   ]
  },
  {
   "cell_type": "code",
   "execution_count": 36,
   "metadata": {},
   "outputs": [
    {
     "name": "stdout",
     "output_type": "stream",
     "text": [
      "********intelligence\n"
     ]
    }
   ],
   "source": [
    "#Return the string right justified in a string of length width. Padding is done using the specified fillchar\n",
    "print(a.rjust(20,\"*\"))"
   ]
  },
  {
   "cell_type": "code",
   "execution_count": 37,
   "metadata": {},
   "outputs": [
    {
     "name": "stdout",
     "output_type": "stream",
     "text": [
      "('ARTI', 'FIC', 'IAL')\n"
     ]
    }
   ],
   "source": [
    "#Split the string at the last occurrence and return a 3-tuple containing the part before the separator\n",
    "print(b.rpartition(\"FIC\"))"
   ]
  },
  {
   "cell_type": "code",
   "execution_count": 38,
   "metadata": {},
   "outputs": [
    {
     "name": "stdout",
     "output_type": "stream",
     "text": [
      "['My ', ' Number is {reg:}']\n"
     ]
    }
   ],
   "source": [
    "#Splits the string at the specified separator, and returns a list\n",
    "print(d.rsplit(\"Registration\"))"
   ]
  },
  {
   "cell_type": "code",
   "execution_count": 115,
   "metadata": {},
   "outputs": [
    {
     "name": "stdout",
     "output_type": "stream",
     "text": [
      "******Superman*****\n",
      "******Superman\n"
     ]
    }
   ],
   "source": [
    "#Return a copy of the string with trailing characters removed\n",
    "\n",
    "\n",
    "print(x)\n",
    "print(x.rstrip(\"*\"))"
   ]
  },
  {
   "cell_type": "code",
   "execution_count": 57,
   "metadata": {},
   "outputs": [
    {
     "name": "stdout",
     "output_type": "stream",
     "text": [
      "['My', 'Registration', 'Number', 'is', '{reg:}']\n"
     ]
    }
   ],
   "source": [
    "#The split() method splits a string into a list.\n",
    "print(d.split())"
   ]
  },
  {
   "cell_type": "code",
   "execution_count": 64,
   "metadata": {},
   "outputs": [
    {
     "name": "stdout",
     "output_type": "stream",
     "text": [
      "Abdul\n",
      "Ahad\n",
      "bin\n",
      "Kaukab\n",
      "['Abdul', 'Ahad', 'bin', 'Kaukab']\n"
     ]
    }
   ],
   "source": [
    "#Splits the string at line breaks and returns a list\n",
    "\n",
    "print(y)\n",
    "print(y.splitlines())"
   ]
  },
  {
   "cell_type": "code",
   "execution_count": 68,
   "metadata": {},
   "outputs": [
    {
     "name": "stdout",
     "output_type": "stream",
     "text": [
      "intelligence\n",
      "True\n"
     ]
    }
   ],
   "source": [
    "#Returns true if the string starts with the specified value\n",
    "print(a)\n",
    "print(a.startswith(\"i\"))"
   ]
  },
  {
   "cell_type": "code",
   "execution_count": 73,
   "metadata": {},
   "outputs": [
    {
     "name": "stdout",
     "output_type": "stream",
     "text": [
      "ARTIFICIAL\n",
      "FIC\n"
     ]
    }
   ],
   "source": [
    "#Return a copy of the string with the leading and trailing characters removed.\n",
    "print(b)\n",
    "print(b.strip(\"ARTIAL\"))"
   ]
  },
  {
   "cell_type": "code",
   "execution_count": 76,
   "metadata": {},
   "outputs": [
    {
     "name": "stdout",
     "output_type": "stream",
     "text": [
      "p\ti\ta\ti\tc\t\n"
     ]
    }
   ],
   "source": [
    "#Return a copy of the string with uppercase characters converted to lowercase and vice versa.\n",
    "print(c)\n",
    "print(c.swapcase())"
   ]
  },
  {
   "cell_type": "code",
   "execution_count": 78,
   "metadata": {},
   "outputs": [
    {
     "name": "stdout",
     "output_type": "stream",
     "text": [
      "intelligence\n",
      "Intelligence\n"
     ]
    }
   ],
   "source": [
    "#Return a titlecased version of the string where words start with an uppercase character and the remaining characters are lowercase.\n",
    "print(a)\n",
    "print(a.title())"
   ]
  },
  {
   "cell_type": "code",
   "execution_count": 112,
   "metadata": {},
   "outputs": [
    {
     "name": "stdout",
     "output_type": "stream",
     "text": [
      "My Registnation Namben is {neg:}\n"
     ]
    }
   ],
   "source": [
    "#Returns a translated string\n",
    "print(d.translate(t))#inline Please refer to maketrans func above"
   ]
  },
  {
   "cell_type": "code",
   "execution_count": 84,
   "metadata": {},
   "outputs": [
    {
     "name": "stdout",
     "output_type": "stream",
     "text": [
      "Batman\n",
      "BATMAN\n"
     ]
    }
   ],
   "source": [
    "#Return a copy of the string with all the cased characters converted to uppercase.\n",
    "print(f)\n",
    "print(f.upper())#inline"
   ]
  },
  {
   "cell_type": "code",
   "execution_count": 90,
   "metadata": {},
   "outputs": [
    {
     "name": "stdout",
     "output_type": "stream",
     "text": [
      "0000000000ARTIFICIAL\n"
     ]
    }
   ],
   "source": [
    "#Return a copy of the string left filled with ASCII '0' digits to make a string of length width\n",
    "print(b.zfill(20))#inline"
   ]
  },
  {
   "cell_type": "code",
   "execution_count": null,
   "metadata": {},
   "outputs": [],
   "source": []
  }
 ],
 "metadata": {
  "kernelspec": {
   "display_name": "Python 3",
   "language": "python",
   "name": "python3"
  },
  "language_info": {
   "codemirror_mode": {
    "name": "ipython",
    "version": 3
   },
   "file_extension": ".py",
   "mimetype": "text/x-python",
   "name": "python",
   "nbconvert_exporter": "python",
   "pygments_lexer": "ipython3",
   "version": "3.7.3"
  }
 },
 "nbformat": 4,
 "nbformat_minor": 2
}
