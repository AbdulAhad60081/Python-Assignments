{
 "cells": [
  {
   "cell_type": "code",
   "execution_count": 5,
   "metadata": {},
   "outputs": [
    {
     "name": "stdout",
     "output_type": "stream",
     "text": [
      "Getting Bore\n"
     ]
    }
   ],
   "source": [
    "print(\"Getting Bore\")"
   ]
  },
  {
   "cell_type": "code",
   "execution_count": 7,
   "metadata": {},
   "outputs": [
    {
     "name": "stdout",
     "output_type": "stream",
     "text": [
      "Github Markdown\n"
     ]
    }
   ],
   "source": [
    "print(\"Github Markdown\")"
   ]
  },
  {
   "cell_type": "markdown",
   "metadata": {},
   "source": [
    "# Lets do some stuff\n",
    "## don't forget to put some space\n",
    "### learn more about github markdown\n",
    "####  python.org goto docs and learn tutorials\n",
    "<h1>Olalala</h1>\n",
    "##### mta 98-381\n",
    "<h1> <i>Colab</i></h1>\n",
    "\n"
   ]
  },
  {
   "cell_type": "code",
   "execution_count": 2,
   "metadata": {},
   "outputs": [
    {
     "name": "stdout",
     "output_type": "stream",
     "text": [
      "This is the string\n",
      "<class 'str'>\n",
      "2\n",
      "<class 'int'>\n",
      "true\n",
      "<class 'str'>\n"
     ]
    }
   ],
   "source": [
    "str=\"This is the string\"\n",
    "print(str)\n",
    "print(type(str))\n",
    "str=2\n",
    "print(str)\n",
    "print(type(str))\n",
    "str=\"true\"\n",
    "print(str)\n",
    "print(type(str))\n",
    "\n"
   ]
  },
  {
   "cell_type": "code",
   "execution_count": 2,
   "metadata": {},
   "outputs": [
    {
     "name": "stdout",
     "output_type": "stream",
     "text": [
      "\n",
      "PIAIC Islamabad Batch 3\n",
      "Name: Abdul Ahad\n",
      "Father Name: Kaukab Aqeel\n",
      "Location: Islamic University\n",
      "Semester: 7th\n",
      "\n",
      "\n"
     ]
    }
   ],
   "source": [
    "name =\"Abdul Ahad\"\n",
    "fname=\"Kaukab Aqeel\"\n",
    "loca=\"Islamic University\"\n",
    "semes=\"7th\"\n",
    "\n",
    "\n",
    "message=\"\"\"\n",
    "PIAIC Islamabad Batch 3\n",
    "Name: {}\n",
    "Father Name: {}\n",
    "Location: {}\n",
    "Semester: {}\n",
    "\n",
    "\"\"\".format(name,fname,loca,semes)\n",
    "\n",
    "print(message)"
   ]
  },
  {
   "cell_type": "code",
   "execution_count": null,
   "metadata": {},
   "outputs": [],
   "source": [
    "fname=input(\" Enter First Name\")\n",
    "#lname=input(\" Enter Last Name\")\n",
    "#inter=input(\" Enter Interest\")\n"
   ]
  },
  {
   "cell_type": "markdown",
   "metadata": {},
   "source": [
    "# 24/11/2019\n",
    "    "
   ]
  },
  {
   "cell_type": "code",
   "execution_count": null,
   "metadata": {},
   "outputs": [],
   "source": []
  }
 ],
 "metadata": {
  "kernelspec": {
   "display_name": "Python 3",
   "language": "python",
   "name": "python3"
  },
  "language_info": {
   "codemirror_mode": {
    "name": "ipython",
    "version": 3
   },
   "file_extension": ".py",
   "mimetype": "text/x-python",
   "name": "python",
   "nbconvert_exporter": "python",
   "pygments_lexer": "ipython3",
   "version": "3.7.3"
  }
 },
 "nbformat": 4,
 "nbformat_minor": 2
}
